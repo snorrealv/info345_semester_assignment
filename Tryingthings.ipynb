{
 "cells": [
  {
   "cell_type": "code",
   "execution_count": 1,
   "metadata": {},
   "outputs": [],
   "source": [
    "import pandas as pd\n",
    "import numpy as np\n",
    "import matplotlib.pyplot as plt\n",
    "import pandas as pd\n",
    "import csv"
   ]
  },
  {
   "cell_type": "code",
   "execution_count": 2,
   "metadata": {},
   "outputs": [
    {
     "data": {
      "text/html": [
       "<div>\n",
       "<style scoped>\n",
       "    .dataframe tbody tr th:only-of-type {\n",
       "        vertical-align: middle;\n",
       "    }\n",
       "\n",
       "    .dataframe tbody tr th {\n",
       "        vertical-align: top;\n",
       "    }\n",
       "\n",
       "    .dataframe thead th {\n",
       "        text-align: right;\n",
       "    }\n",
       "</style>\n",
       "<table border=\"1\" class=\"dataframe\">\n",
       "  <thead>\n",
       "    <tr style=\"text-align: right;\">\n",
       "      <th></th>\n",
       "      <th>Recipe ID</th>\n",
       "      <th>Name</th>\n",
       "      <th>Fiber (g)</th>\n",
       "      <th>Sodium (g)</th>\n",
       "      <th>Carbohydrates (g)</th>\n",
       "      <th>Fat (g)</th>\n",
       "      <th>Protein (g)</th>\n",
       "      <th>Sugar (g)</th>\n",
       "      <th>Saturated Fat (g)</th>\n",
       "      <th>Size (g)</th>\n",
       "      <th>Servings</th>\n",
       "      <th>Calories (kCal)</th>\n",
       "      <th>Average Rating</th>\n",
       "      <th>Average Sentiment</th>\n",
       "      <th>Number of Ratings</th>\n",
       "      <th>Number of Bookmarks</th>\n",
       "      <th>Year of Publishing</th>\n",
       "    </tr>\n",
       "  </thead>\n",
       "  <tbody>\n",
       "    <tr>\n",
       "      <th>0</th>\n",
       "      <td>2622</td>\n",
       "      <td>Slow Cooker Tender and Yummy Round Steak</td>\n",
       "      <td>4.5</td>\n",
       "      <td>0.83</td>\n",
       "      <td>33.1</td>\n",
       "      <td>13.6</td>\n",
       "      <td>33.8</td>\n",
       "      <td>5.0</td>\n",
       "      <td>4.6</td>\n",
       "      <td>2599.35</td>\n",
       "      <td>6.0</td>\n",
       "      <td>393.0</td>\n",
       "      <td>4.32</td>\n",
       "      <td>1.79</td>\n",
       "      <td>81</td>\n",
       "      <td>2271</td>\n",
       "      <td>2000</td>\n",
       "    </tr>\n",
       "    <tr>\n",
       "      <th>1</th>\n",
       "      <td>722</td>\n",
       "      <td>Chicken Pot Pie II</td>\n",
       "      <td>6.2</td>\n",
       "      <td>1.06</td>\n",
       "      <td>47.8</td>\n",
       "      <td>29.5</td>\n",
       "      <td>51.4</td>\n",
       "      <td>6.4</td>\n",
       "      <td>11.4</td>\n",
       "      <td>2137.86</td>\n",
       "      <td>4.0</td>\n",
       "      <td>666.0</td>\n",
       "      <td>4.66</td>\n",
       "      <td>2.02</td>\n",
       "      <td>116</td>\n",
       "      <td>1200</td>\n",
       "      <td>2000</td>\n",
       "    </tr>\n",
       "    <tr>\n",
       "      <th>2</th>\n",
       "      <td>1137</td>\n",
       "      <td>Chicken in a Pot</td>\n",
       "      <td>1.0</td>\n",
       "      <td>0.40</td>\n",
       "      <td>6.9</td>\n",
       "      <td>6.6</td>\n",
       "      <td>28.7</td>\n",
       "      <td>1.8</td>\n",
       "      <td>1.4</td>\n",
       "      <td>819.37</td>\n",
       "      <td>4.0</td>\n",
       "      <td>206.0</td>\n",
       "      <td>4.29</td>\n",
       "      <td>1.98</td>\n",
       "      <td>83</td>\n",
       "      <td>1779</td>\n",
       "      <td>2001</td>\n",
       "    </tr>\n",
       "    <tr>\n",
       "      <th>3</th>\n",
       "      <td>2502</td>\n",
       "      <td>Erin's Indonesian Chicken</td>\n",
       "      <td>6.4</td>\n",
       "      <td>0.32</td>\n",
       "      <td>58.1</td>\n",
       "      <td>18.6</td>\n",
       "      <td>35.4</td>\n",
       "      <td>7.8</td>\n",
       "      <td>3.8</td>\n",
       "      <td>1972.13</td>\n",
       "      <td>4.0</td>\n",
       "      <td>530.0</td>\n",
       "      <td>4.39</td>\n",
       "      <td>1.99</td>\n",
       "      <td>80</td>\n",
       "      <td>872</td>\n",
       "      <td>2005</td>\n",
       "    </tr>\n",
       "    <tr>\n",
       "      <th>4</th>\n",
       "      <td>2714</td>\n",
       "      <td>Bubble Pizza</td>\n",
       "      <td>3.0</td>\n",
       "      <td>1.96</td>\n",
       "      <td>45.4</td>\n",
       "      <td>36.4</td>\n",
       "      <td>28.5</td>\n",
       "      <td>8.7</td>\n",
       "      <td>13.4</td>\n",
       "      <td>2375.00</td>\n",
       "      <td>8.0</td>\n",
       "      <td>624.0</td>\n",
       "      <td>4.35</td>\n",
       "      <td>1.96</td>\n",
       "      <td>117</td>\n",
       "      <td>2204</td>\n",
       "      <td>2001</td>\n",
       "    </tr>\n",
       "  </tbody>\n",
       "</table>\n",
       "</div>"
      ],
      "text/plain": [
       "   Recipe ID                                      Name  Fiber (g)  Sodium (g)  \\\n",
       "0       2622  Slow Cooker Tender and Yummy Round Steak        4.5        0.83   \n",
       "1        722                        Chicken Pot Pie II        6.2        1.06   \n",
       "2       1137                          Chicken in a Pot        1.0        0.40   \n",
       "3       2502                 Erin's Indonesian Chicken        6.4        0.32   \n",
       "4       2714                              Bubble Pizza        3.0        1.96   \n",
       "\n",
       "   Carbohydrates (g)  Fat (g)  Protein (g)  Sugar (g)  Saturated Fat (g)  \\\n",
       "0               33.1     13.6         33.8        5.0                4.6   \n",
       "1               47.8     29.5         51.4        6.4               11.4   \n",
       "2                6.9      6.6         28.7        1.8                1.4   \n",
       "3               58.1     18.6         35.4        7.8                3.8   \n",
       "4               45.4     36.4         28.5        8.7               13.4   \n",
       "\n",
       "   Size (g)  Servings  Calories (kCal)  Average Rating  Average Sentiment  \\\n",
       "0   2599.35       6.0            393.0            4.32               1.79   \n",
       "1   2137.86       4.0            666.0            4.66               2.02   \n",
       "2    819.37       4.0            206.0            4.29               1.98   \n",
       "3   1972.13       4.0            530.0            4.39               1.99   \n",
       "4   2375.00       8.0            624.0            4.35               1.96   \n",
       "\n",
       "   Number of Ratings  Number of Bookmarks  Year of Publishing  \n",
       "0                 81                 2271                2000  \n",
       "1                116                 1200                2000  \n",
       "2                 83                 1779                2001  \n",
       "3                 80                  872                2005  \n",
       "4                117                 2204                2001  "
      ]
     },
     "execution_count": 2,
     "metadata": {},
     "output_type": "execute_result"
    }
   ],
   "source": [
    "df = pd.read_csv(\"item-profiles2.csv\", on_bad_lines='skip', sep=';')\n",
    "df.head()"
   ]
  },
  {
   "cell_type": "markdown",
   "metadata": {},
   "source": [
    "Taking away string data and unnecessary data"
   ]
  },
  {
   "cell_type": "code",
   "execution_count": 3,
   "metadata": {},
   "outputs": [
    {
     "data": {
      "text/html": [
       "<div>\n",
       "<style scoped>\n",
       "    .dataframe tbody tr th:only-of-type {\n",
       "        vertical-align: middle;\n",
       "    }\n",
       "\n",
       "    .dataframe tbody tr th {\n",
       "        vertical-align: top;\n",
       "    }\n",
       "\n",
       "    .dataframe thead th {\n",
       "        text-align: right;\n",
       "    }\n",
       "</style>\n",
       "<table border=\"1\" class=\"dataframe\">\n",
       "  <thead>\n",
       "    <tr style=\"text-align: right;\">\n",
       "      <th></th>\n",
       "      <th>Recipe ID</th>\n",
       "      <th>Fiber (g)</th>\n",
       "      <th>Sodium (g)</th>\n",
       "      <th>Carbohydrates (g)</th>\n",
       "      <th>Fat (g)</th>\n",
       "      <th>Protein (g)</th>\n",
       "      <th>Sugar (g)</th>\n",
       "      <th>Saturated Fat (g)</th>\n",
       "      <th>Size (g)</th>\n",
       "      <th>Servings</th>\n",
       "      <th>Calories (kCal)</th>\n",
       "      <th>Average Rating</th>\n",
       "      <th>Average Sentiment</th>\n",
       "      <th>Number of Ratings</th>\n",
       "      <th>Number of Bookmarks</th>\n",
       "    </tr>\n",
       "  </thead>\n",
       "  <tbody>\n",
       "    <tr>\n",
       "      <th>0</th>\n",
       "      <td>2622</td>\n",
       "      <td>4.5</td>\n",
       "      <td>0.83</td>\n",
       "      <td>33.1</td>\n",
       "      <td>13.6</td>\n",
       "      <td>33.8</td>\n",
       "      <td>5.0</td>\n",
       "      <td>4.6</td>\n",
       "      <td>2599.35</td>\n",
       "      <td>6.0</td>\n",
       "      <td>393.0</td>\n",
       "      <td>4.32</td>\n",
       "      <td>1.79</td>\n",
       "      <td>81</td>\n",
       "      <td>2271</td>\n",
       "    </tr>\n",
       "  </tbody>\n",
       "</table>\n",
       "</div>"
      ],
      "text/plain": [
       "   Recipe ID  Fiber (g)  Sodium (g)  Carbohydrates (g)  Fat (g)  Protein (g)  \\\n",
       "0       2622        4.5        0.83               33.1     13.6         33.8   \n",
       "\n",
       "   Sugar (g)  Saturated Fat (g)  Size (g)  Servings  Calories (kCal)  \\\n",
       "0        5.0                4.6   2599.35       6.0            393.0   \n",
       "\n",
       "   Average Rating  Average Sentiment  Number of Ratings  Number of Bookmarks  \n",
       "0            4.32               1.79                 81                 2271  "
      ]
     },
     "execution_count": 3,
     "metadata": {},
     "output_type": "execute_result"
    }
   ],
   "source": [
    "columns_to_remove = ['Name', 'Year of Publishing']\n",
    "\n",
    "df = df.drop(columns_to_remove, axis=1)\n",
    "\n",
    "\n",
    "df.head(1)"
   ]
  },
  {
   "cell_type": "code",
   "execution_count": 4,
   "metadata": {},
   "outputs": [],
   "source": [
    "#Import the train_test_split function\n",
    "from sklearn.model_selection import train_test_split"
   ]
  },
  {
   "cell_type": "code",
   "execution_count": 6,
   "metadata": {},
   "outputs": [
    {
     "data": {
      "text/plain": [
       "0    2622\n",
       "1     722\n",
       "2    1137\n",
       "3    2502\n",
       "4    2714\n",
       "Name: Recipe ID, dtype: int64"
      ]
     },
     "execution_count": 6,
     "metadata": {},
     "output_type": "execute_result"
    }
   ],
   "source": [
    "df['Recipe ID'].head()"
   ]
  },
  {
   "cell_type": "code",
   "execution_count": 5,
   "metadata": {},
   "outputs": [
    {
     "ename": "ValueError",
     "evalue": "The least populated class in y has only 1 member, which is too few. The minimum number of groups for any class cannot be less than 2.",
     "output_type": "error",
     "traceback": [
      "\u001b[1;31m---------------------------------------------------------------------------\u001b[0m",
      "\u001b[1;31mValueError\u001b[0m                                Traceback (most recent call last)",
      "\u001b[1;32mc:\\Users\\carlo\\Info345\\Semesteroppgave\\Semester assignment - data\\info345_semester_assignment\\Tryingthings.ipynb Cell 6\u001b[0m in \u001b[0;36m<cell line: 5>\u001b[1;34m()\u001b[0m\n\u001b[0;32m      <a href='vscode-notebook-cell:/c%3A/Users/carlo/Info345/Semesteroppgave/Semester%20assignment%20-%20data/info345_semester_assignment/Tryingthings.ipynb#W5sZmlsZQ%3D%3D?line=1'>2</a>\u001b[0m X \u001b[39m=\u001b[39m  df\u001b[39m.\u001b[39mcopy() \u001b[39m# your code \u001b[39;00m\n\u001b[0;32m      <a href='vscode-notebook-cell:/c%3A/Users/carlo/Info345/Semesteroppgave/Semester%20assignment%20-%20data/info345_semester_assignment/Tryingthings.ipynb#W5sZmlsZQ%3D%3D?line=2'>3</a>\u001b[0m y \u001b[39m=\u001b[39m df[\u001b[39m'\u001b[39m\u001b[39mRecipe ID\u001b[39m\u001b[39m'\u001b[39m] \n\u001b[1;32m----> <a href='vscode-notebook-cell:/c%3A/Users/carlo/Info345/Semesteroppgave/Semester%20assignment%20-%20data/info345_semester_assignment/Tryingthings.ipynb#W5sZmlsZQ%3D%3D?line=4'>5</a>\u001b[0m X_train, X_test, y_train, y_test \u001b[39m=\u001b[39m train_test_split(X, y, test_size\u001b[39m=\u001b[39;49m\u001b[39m0.25\u001b[39;49m, stratify\u001b[39m=\u001b[39;49my, random_state \u001b[39m=\u001b[39;49m \u001b[39m42\u001b[39;49m)\n",
      "File \u001b[1;32mc:\\Users\\carlo\\anaconda3\\lib\\site-packages\\sklearn\\model_selection\\_split.py:2441\u001b[0m, in \u001b[0;36mtrain_test_split\u001b[1;34m(test_size, train_size, random_state, shuffle, stratify, *arrays)\u001b[0m\n\u001b[0;32m   2437\u001b[0m         CVClass \u001b[39m=\u001b[39m ShuffleSplit\n\u001b[0;32m   2439\u001b[0m     cv \u001b[39m=\u001b[39m CVClass(test_size\u001b[39m=\u001b[39mn_test, train_size\u001b[39m=\u001b[39mn_train, random_state\u001b[39m=\u001b[39mrandom_state)\n\u001b[1;32m-> 2441\u001b[0m     train, test \u001b[39m=\u001b[39m \u001b[39mnext\u001b[39;49m(cv\u001b[39m.\u001b[39;49msplit(X\u001b[39m=\u001b[39;49marrays[\u001b[39m0\u001b[39;49m], y\u001b[39m=\u001b[39;49mstratify))\n\u001b[0;32m   2443\u001b[0m \u001b[39mreturn\u001b[39;00m \u001b[39mlist\u001b[39m(\n\u001b[0;32m   2444\u001b[0m     chain\u001b[39m.\u001b[39mfrom_iterable(\n\u001b[0;32m   2445\u001b[0m         (_safe_indexing(a, train), _safe_indexing(a, test)) \u001b[39mfor\u001b[39;00m a \u001b[39min\u001b[39;00m arrays\n\u001b[0;32m   2446\u001b[0m     )\n\u001b[0;32m   2447\u001b[0m )\n",
      "File \u001b[1;32mc:\\Users\\carlo\\anaconda3\\lib\\site-packages\\sklearn\\model_selection\\_split.py:1600\u001b[0m, in \u001b[0;36mBaseShuffleSplit.split\u001b[1;34m(self, X, y, groups)\u001b[0m\n\u001b[0;32m   1570\u001b[0m \u001b[39m\"\"\"Generate indices to split data into training and test set.\u001b[39;00m\n\u001b[0;32m   1571\u001b[0m \n\u001b[0;32m   1572\u001b[0m \u001b[39mParameters\u001b[39;00m\n\u001b[1;32m   (...)\u001b[0m\n\u001b[0;32m   1597\u001b[0m \u001b[39mto an integer.\u001b[39;00m\n\u001b[0;32m   1598\u001b[0m \u001b[39m\"\"\"\u001b[39;00m\n\u001b[0;32m   1599\u001b[0m X, y, groups \u001b[39m=\u001b[39m indexable(X, y, groups)\n\u001b[1;32m-> 1600\u001b[0m \u001b[39mfor\u001b[39;00m train, test \u001b[39min\u001b[39;00m \u001b[39mself\u001b[39m\u001b[39m.\u001b[39m_iter_indices(X, y, groups):\n\u001b[0;32m   1601\u001b[0m     \u001b[39myield\u001b[39;00m train, test\n",
      "File \u001b[1;32mc:\\Users\\carlo\\anaconda3\\lib\\site-packages\\sklearn\\model_selection\\_split.py:1940\u001b[0m, in \u001b[0;36mStratifiedShuffleSplit._iter_indices\u001b[1;34m(self, X, y, groups)\u001b[0m\n\u001b[0;32m   1938\u001b[0m class_counts \u001b[39m=\u001b[39m np\u001b[39m.\u001b[39mbincount(y_indices)\n\u001b[0;32m   1939\u001b[0m \u001b[39mif\u001b[39;00m np\u001b[39m.\u001b[39mmin(class_counts) \u001b[39m<\u001b[39m \u001b[39m2\u001b[39m:\n\u001b[1;32m-> 1940\u001b[0m     \u001b[39mraise\u001b[39;00m \u001b[39mValueError\u001b[39;00m(\n\u001b[0;32m   1941\u001b[0m         \u001b[39m\"\u001b[39m\u001b[39mThe least populated class in y has only 1\u001b[39m\u001b[39m\"\u001b[39m\n\u001b[0;32m   1942\u001b[0m         \u001b[39m\"\u001b[39m\u001b[39m member, which is too few. The minimum\u001b[39m\u001b[39m\"\u001b[39m\n\u001b[0;32m   1943\u001b[0m         \u001b[39m\"\u001b[39m\u001b[39m number of groups for any class cannot\u001b[39m\u001b[39m\"\u001b[39m\n\u001b[0;32m   1944\u001b[0m         \u001b[39m\"\u001b[39m\u001b[39m be less than 2.\u001b[39m\u001b[39m\"\u001b[39m\n\u001b[0;32m   1945\u001b[0m     )\n\u001b[0;32m   1947\u001b[0m \u001b[39mif\u001b[39;00m n_train \u001b[39m<\u001b[39m n_classes:\n\u001b[0;32m   1948\u001b[0m     \u001b[39mraise\u001b[39;00m \u001b[39mValueError\u001b[39;00m(\n\u001b[0;32m   1949\u001b[0m         \u001b[39m\"\u001b[39m\u001b[39mThe train_size = \u001b[39m\u001b[39m%d\u001b[39;00m\u001b[39m should be greater or \u001b[39m\u001b[39m\"\u001b[39m\n\u001b[0;32m   1950\u001b[0m         \u001b[39m\"\u001b[39m\u001b[39mequal to the number of classes = \u001b[39m\u001b[39m%d\u001b[39;00m\u001b[39m\"\u001b[39m \u001b[39m%\u001b[39m (n_train, n_classes)\n\u001b[0;32m   1951\u001b[0m     )\n",
      "\u001b[1;31mValueError\u001b[0m: The least populated class in y has only 1 member, which is too few. The minimum number of groups for any class cannot be less than 2."
     ]
    }
   ],
   "source": [
    "# Assign X as the original ratings dataframe and y as the user_id column of ratings.\n",
    "X =  df.copy() # your code \n",
    "y = df['Recipe ID'] \n",
    "\n",
    "X_train, X_test, y_train, y_test = train_test_split(X, y, test_size=0.25, stratify=y, random_state = 42)"
   ]
  },
  {
   "cell_type": "code",
   "execution_count": null,
   "metadata": {},
   "outputs": [],
   "source": [
    "#Import the mean_squared_error function\n",
    "from sklearn.metrics import mean_squared_error\n",
    "\n",
    "#Function that computes the root mean squared error (or RMSE)\n",
    "def rmse(y_true, y_pred):\n",
    "    return np.sqrt(mean_squared_error(y_true, y_pred))"
   ]
  },
  {
   "cell_type": "code",
   "execution_count": null,
   "metadata": {},
   "outputs": [],
   "source": [
    "#Function to compute the RMSE score obtained on the testing set by a model\n",
    "def score(cf_model):\n",
    "    \n",
    "    #Construct a list of user-movie tuples from the testing dataset\n",
    "    id_pairs = zip(X_test['user_id'], X_test['movie_id'])\n",
    "    \n",
    "    #Predict the rating for every user-movie tuple\n",
    "    y_pred = np.array([cf_model(user, movie) for (user, movie) in id_pairs])\n",
    "    print(y_pred)\n",
    "    \n",
    "    #Extract the actual ratings given by the users in the test data\n",
    "    y_true = np.array(X_test['rating'])\n",
    "    \n",
    "    #Return the final RMSE score\n",
    "    return rmse(y_true, y_pred)"
   ]
  },
  {
   "cell_type": "code",
   "execution_count": null,
   "metadata": {},
   "outputs": [],
   "source": []
  }
 ],
 "metadata": {
  "kernelspec": {
   "display_name": "Python 3.8.8 ('base')",
   "language": "python",
   "name": "python3"
  },
  "language_info": {
   "codemirror_mode": {
    "name": "ipython",
    "version": 3
   },
   "file_extension": ".py",
   "mimetype": "text/x-python",
   "name": "python",
   "nbconvert_exporter": "python",
   "pygments_lexer": "ipython3",
   "version": "3.8.8"
  },
  "orig_nbformat": 4,
  "vscode": {
   "interpreter": {
    "hash": "8e76f8642360a3358ab06c318ab18c1161224eb3836609d5c16edea6f6e43dba"
   }
  }
 },
 "nbformat": 4,
 "nbformat_minor": 2
}
