{
 "cells": [
  {
   "cell_type": "code",
   "execution_count": 3,
   "metadata": {},
   "outputs": [],
   "source": [
    "import sklearn\n",
    "import pandas as pd\n",
    "import numpy as np"
   ]
  },
  {
   "cell_type": "code",
   "execution_count": 56,
   "metadata": {},
   "outputs": [],
   "source": [
    "df = pd.read_csv('../data/features.csv')"
   ]
  },
  {
   "cell_type": "code",
   "execution_count": 57,
   "metadata": {},
   "outputs": [],
   "source": [
    "df = df.set_index(keys='id')"
   ]
  },
  {
   "cell_type": "code",
   "execution_count": 62,
   "metadata": {},
   "outputs": [
    {
     "data": {
      "text/html": [
       "<div>\n",
       "<style scoped>\n",
       "    .dataframe tbody tr th:only-of-type {\n",
       "        vertical-align: middle;\n",
       "    }\n",
       "\n",
       "    .dataframe tbody tr th {\n",
       "        vertical-align: top;\n",
       "    }\n",
       "\n",
       "    .dataframe thead th {\n",
       "        text-align: right;\n",
       "    }\n",
       "</style>\n",
       "<table border=\"1\" class=\"dataframe\">\n",
       "  <thead>\n",
       "    <tr style=\"text-align: right;\">\n",
       "      <th></th>\n",
       "      <th>sharpness</th>\n",
       "      <th>saturation</th>\n",
       "      <th>brightness</th>\n",
       "      <th>entropy</th>\n",
       "      <th>contrast</th>\n",
       "      <th>colorfulness</th>\n",
       "    </tr>\n",
       "    <tr>\n",
       "      <th>id</th>\n",
       "      <th></th>\n",
       "      <th></th>\n",
       "      <th></th>\n",
       "      <th></th>\n",
       "      <th></th>\n",
       "      <th></th>\n",
       "    </tr>\n",
       "  </thead>\n",
       "  <tbody>\n",
       "    <tr>\n",
       "      <th>63</th>\n",
       "      <td>45.042899</td>\n",
       "      <td>60.625145</td>\n",
       "      <td>3.839637</td>\n",
       "      <td>965.051933</td>\n",
       "      <td>76.142303</td>\n",
       "      <td>62.953686</td>\n",
       "    </tr>\n",
       "    <tr>\n",
       "      <th>1353</th>\n",
       "      <td>65.857150</td>\n",
       "      <td>72.958046</td>\n",
       "      <td>4.571306</td>\n",
       "      <td>211.078292</td>\n",
       "      <td>58.294239</td>\n",
       "      <td>97.960309</td>\n",
       "    </tr>\n",
       "    <tr>\n",
       "      <th>1421</th>\n",
       "      <td>44.831194</td>\n",
       "      <td>58.877440</td>\n",
       "      <td>4.714785</td>\n",
       "      <td>745.972724</td>\n",
       "      <td>66.019640</td>\n",
       "      <td>52.555248</td>\n",
       "    </tr>\n",
       "    <tr>\n",
       "      <th>2896</th>\n",
       "      <td>42.557714</td>\n",
       "      <td>67.311302</td>\n",
       "      <td>4.013180</td>\n",
       "      <td>117.061072</td>\n",
       "      <td>57.933238</td>\n",
       "      <td>54.319254</td>\n",
       "    </tr>\n",
       "    <tr>\n",
       "      <th>610</th>\n",
       "      <td>47.668126</td>\n",
       "      <td>60.862984</td>\n",
       "      <td>4.908555</td>\n",
       "      <td>700.064150</td>\n",
       "      <td>64.062041</td>\n",
       "      <td>60.220316</td>\n",
       "    </tr>\n",
       "    <tr>\n",
       "      <th>...</th>\n",
       "      <td>...</td>\n",
       "      <td>...</td>\n",
       "      <td>...</td>\n",
       "      <td>...</td>\n",
       "      <td>...</td>\n",
       "      <td>...</td>\n",
       "    </tr>\n",
       "    <tr>\n",
       "      <th>4232</th>\n",
       "      <td>31.309838</td>\n",
       "      <td>73.742096</td>\n",
       "      <td>3.318515</td>\n",
       "      <td>21.122673</td>\n",
       "      <td>45.294859</td>\n",
       "      <td>62.539970</td>\n",
       "    </tr>\n",
       "    <tr>\n",
       "      <th>190</th>\n",
       "      <td>56.064134</td>\n",
       "      <td>60.471814</td>\n",
       "      <td>4.153673</td>\n",
       "      <td>155.951339</td>\n",
       "      <td>47.511836</td>\n",
       "      <td>71.039435</td>\n",
       "    </tr>\n",
       "    <tr>\n",
       "      <th>1404</th>\n",
       "      <td>34.334820</td>\n",
       "      <td>67.380092</td>\n",
       "      <td>3.769233</td>\n",
       "      <td>439.794763</td>\n",
       "      <td>64.077598</td>\n",
       "      <td>48.508521</td>\n",
       "    </tr>\n",
       "    <tr>\n",
       "      <th>1410</th>\n",
       "      <td>33.436802</td>\n",
       "      <td>72.156635</td>\n",
       "      <td>4.834796</td>\n",
       "      <td>3468.321063</td>\n",
       "      <td>69.005476</td>\n",
       "      <td>62.407690</td>\n",
       "    </tr>\n",
       "    <tr>\n",
       "      <th>4568</th>\n",
       "      <td>65.495268</td>\n",
       "      <td>52.003489</td>\n",
       "      <td>3.826279</td>\n",
       "      <td>93.954150</td>\n",
       "      <td>59.851529</td>\n",
       "      <td>56.083709</td>\n",
       "    </tr>\n",
       "  </tbody>\n",
       "</table>\n",
       "<p>1011 rows × 6 columns</p>\n",
       "</div>"
      ],
      "text/plain": [
       "      sharpness  saturation  brightness      entropy   contrast  colorfulness\n",
       "id                                                                           \n",
       "63    45.042899   60.625145    3.839637   965.051933  76.142303     62.953686\n",
       "1353  65.857150   72.958046    4.571306   211.078292  58.294239     97.960309\n",
       "1421  44.831194   58.877440    4.714785   745.972724  66.019640     52.555248\n",
       "2896  42.557714   67.311302    4.013180   117.061072  57.933238     54.319254\n",
       "610   47.668126   60.862984    4.908555   700.064150  64.062041     60.220316\n",
       "...         ...         ...         ...          ...        ...           ...\n",
       "4232  31.309838   73.742096    3.318515    21.122673  45.294859     62.539970\n",
       "190   56.064134   60.471814    4.153673   155.951339  47.511836     71.039435\n",
       "1404  34.334820   67.380092    3.769233   439.794763  64.077598     48.508521\n",
       "1410  33.436802   72.156635    4.834796  3468.321063  69.005476     62.407690\n",
       "4568  65.495268   52.003489    3.826279    93.954150  59.851529     56.083709\n",
       "\n",
       "[1011 rows x 6 columns]"
      ]
     },
     "execution_count": 62,
     "metadata": {},
     "output_type": "execute_result"
    }
   ],
   "source": [
    "df"
   ]
  },
  {
   "cell_type": "markdown",
   "metadata": {},
   "source": [
    "#### Checking Simularities:"
   ]
  },
  {
   "cell_type": "markdown",
   "metadata": {},
   "source": [
    "Euclidian score:\n",
    "$$d(user_{i}, user_{j}) = \\sqrt{(x_{1} - x_{2})^2 + (y_{1} - y_{2})^2}$$"
   ]
  },
  {
   "cell_type": "code",
   "execution_count": null,
   "metadata": {},
   "outputs": [],
   "source": []
  },
  {
   "cell_type": "markdown",
   "metadata": {},
   "source": [
    "Pearson Correllation\n",
    "$$r = \\frac{\\sum(x_{i} - \\bar{x})(y_{i} - \\bar{y})}{\\sqrt{\\sum(x_{i} - \\bar{x})^2\\sum(y_{i} - \\bar{y})^2}}$$"
   ]
  },
  {
   "cell_type": "code",
   "execution_count": 64,
   "metadata": {},
   "outputs": [],
   "source": [
    "#Function to compute Euclidean Distance. \n",
    "def euclidean(v1, v2):\n",
    "    \n",
    "    #Convert 1-D Python lists to numpy vectors\n",
    "    v1 = np.array(v1)\n",
    "    v2 = np.array(v2)\n",
    "    \n",
    "    #Compute vector which is the element wise square of the difference\n",
    "    diff = np.power(np.array(v1)- np.array(v2), 2)\n",
    "    \n",
    "    #Perform summation of the elements of the above vector\n",
    "    sigma_val = np.sum(diff)\n",
    "    \n",
    "    #Compute square root and return final Euclidean score\n",
    "    euclid_score = np.sqrt(sigma_val)\n",
    "    \n",
    "    return euclid_score"
   ]
  },
  {
   "cell_type": "code",
   "execution_count": 66,
   "metadata": {},
   "outputs": [
    {
     "data": {
      "text/plain": [
       "755.3847609591617"
      ]
     },
     "execution_count": 66,
     "metadata": {},
     "output_type": "execute_result"
    }
   ],
   "source": [
    "euclidean(df.iloc[0], df.iloc[1])"
   ]
  },
  {
   "cell_type": "markdown",
   "metadata": {},
   "source": []
  },
  {
   "cell_type": "code",
   "execution_count": 28,
   "metadata": {},
   "outputs": [
    {
     "data": {
      "text/plain": [
       "0.22850928401946777"
      ]
     },
     "execution_count": 28,
     "metadata": {},
     "output_type": "execute_result"
    }
   ],
   "source": [
    "def cosine_similarity(a,b):\n",
    "    return np.dot(a,b) / ( (np.dot(a,a) **.5) * (np.dot(b,b) ** .5) )\n",
    "cosine_similarity(a,b)"
   ]
  },
  {
   "cell_type": "code",
   "execution_count": 30,
   "metadata": {},
   "outputs": [],
   "source": [
    "df_ranked = pd.DataFrame(columns=['id', 'simularity'])"
   ]
  },
  {
   "cell_type": "markdown",
   "metadata": {},
   "source": [
    "## The recommender"
   ]
  },
  {
   "cell_type": "markdown",
   "metadata": {},
   "source": [
    "Step one is getting our item ratings"
   ]
  },
  {
   "cell_type": "code",
   "execution_count": 85,
   "metadata": {},
   "outputs": [],
   "source": [
    "df = pd.read_csv('../data/features.csv')"
   ]
  },
  {
   "cell_type": "code",
   "execution_count": 86,
   "metadata": {},
   "outputs": [
    {
     "data": {
      "text/html": [
       "<div>\n",
       "<style scoped>\n",
       "    .dataframe tbody tr th:only-of-type {\n",
       "        vertical-align: middle;\n",
       "    }\n",
       "\n",
       "    .dataframe tbody tr th {\n",
       "        vertical-align: top;\n",
       "    }\n",
       "\n",
       "    .dataframe thead th {\n",
       "        text-align: right;\n",
       "    }\n",
       "</style>\n",
       "<table border=\"1\" class=\"dataframe\">\n",
       "  <thead>\n",
       "    <tr style=\"text-align: right;\">\n",
       "      <th></th>\n",
       "      <th>sharpness</th>\n",
       "      <th>saturation</th>\n",
       "      <th>brightness</th>\n",
       "      <th>entropy</th>\n",
       "      <th>contrast</th>\n",
       "      <th>colorfulness</th>\n",
       "      <th>id</th>\n",
       "    </tr>\n",
       "  </thead>\n",
       "  <tbody>\n",
       "    <tr>\n",
       "      <th>0</th>\n",
       "      <td>45.042899</td>\n",
       "      <td>60.625145</td>\n",
       "      <td>3.839637</td>\n",
       "      <td>965.051933</td>\n",
       "      <td>76.142303</td>\n",
       "      <td>62.953686</td>\n",
       "      <td>63</td>\n",
       "    </tr>\n",
       "    <tr>\n",
       "      <th>1</th>\n",
       "      <td>65.857150</td>\n",
       "      <td>72.958046</td>\n",
       "      <td>4.571306</td>\n",
       "      <td>211.078292</td>\n",
       "      <td>58.294239</td>\n",
       "      <td>97.960309</td>\n",
       "      <td>1353</td>\n",
       "    </tr>\n",
       "    <tr>\n",
       "      <th>2</th>\n",
       "      <td>44.831194</td>\n",
       "      <td>58.877440</td>\n",
       "      <td>4.714785</td>\n",
       "      <td>745.972724</td>\n",
       "      <td>66.019640</td>\n",
       "      <td>52.555248</td>\n",
       "      <td>1421</td>\n",
       "    </tr>\n",
       "    <tr>\n",
       "      <th>3</th>\n",
       "      <td>42.557714</td>\n",
       "      <td>67.311302</td>\n",
       "      <td>4.013180</td>\n",
       "      <td>117.061072</td>\n",
       "      <td>57.933238</td>\n",
       "      <td>54.319254</td>\n",
       "      <td>2896</td>\n",
       "    </tr>\n",
       "    <tr>\n",
       "      <th>4</th>\n",
       "      <td>47.668126</td>\n",
       "      <td>60.862984</td>\n",
       "      <td>4.908555</td>\n",
       "      <td>700.064150</td>\n",
       "      <td>64.062041</td>\n",
       "      <td>60.220316</td>\n",
       "      <td>610</td>\n",
       "    </tr>\n",
       "  </tbody>\n",
       "</table>\n",
       "</div>"
      ],
      "text/plain": [
       "   sharpness  saturation  brightness     entropy   contrast  colorfulness  \\\n",
       "0  45.042899   60.625145    3.839637  965.051933  76.142303     62.953686   \n",
       "1  65.857150   72.958046    4.571306  211.078292  58.294239     97.960309   \n",
       "2  44.831194   58.877440    4.714785  745.972724  66.019640     52.555248   \n",
       "3  42.557714   67.311302    4.013180  117.061072  57.933238     54.319254   \n",
       "4  47.668126   60.862984    4.908555  700.064150  64.062041     60.220316   \n",
       "\n",
       "     id  \n",
       "0    63  \n",
       "1  1353  \n",
       "2  1421  \n",
       "3  2896  \n",
       "4   610  "
      ]
     },
     "execution_count": 86,
     "metadata": {},
     "output_type": "execute_result"
    }
   ],
   "source": [
    "df.head()"
   ]
  },
  {
   "cell_type": "markdown",
   "metadata": {},
   "source": [
    "Set misc commands:"
   ]
  },
  {
   "cell_type": "code",
   "execution_count": 87,
   "metadata": {},
   "outputs": [
    {
     "data": {
      "text/plain": [
       "array([[  45.04289882,   60.62514475,    3.83963689,  965.05193304,\n",
       "          76.14230303,   62.9536859 ],\n",
       "       [  65.85715033,   72.95804575,    4.57130625,  211.07829212,\n",
       "          58.29423947,   97.96030895],\n",
       "       [  44.83119407,   58.87744   ,    4.71478489,  745.97272405,\n",
       "          66.01963993,   52.55524774],\n",
       "       ...,\n",
       "       [  34.33482039,   67.38009237,    3.76923333,  439.79476275,\n",
       "          64.07759846,   48.50852148],\n",
       "       [  33.43680163,   72.1566353 ,    4.83479604, 3468.32106294,\n",
       "          69.00547578,   62.40768953],\n",
       "       [  65.49526825,   52.00348924,    3.82627903,   93.95414966,\n",
       "          59.85152931,   56.08370859]])"
      ]
     },
     "execution_count": 87,
     "metadata": {},
     "output_type": "execute_result"
    }
   ],
   "source": [
    "df = df.set_index(keys='id')\n",
    "df.values"
   ]
  },
  {
   "cell_type": "code",
   "execution_count": 94,
   "metadata": {},
   "outputs": [
    {
     "data": {
      "text/plain": [
       "Index(['sharpness', 'saturation', 'brightness', 'entropy', 'contrast',\n",
       "       'colorfulness'],\n",
       "      dtype='object')"
      ]
     },
     "execution_count": 94,
     "metadata": {},
     "output_type": "execute_result"
    }
   ],
   "source": [
    "df.iloc[1].values\n",
    "df.iloc[1].index"
   ]
  },
  {
   "cell_type": "code",
   "execution_count": null,
   "metadata": {},
   "outputs": [],
   "source": []
  },
  {
   "cell_type": "code",
   "execution_count": null,
   "metadata": {},
   "outputs": [],
   "source": []
  },
  {
   "cell_type": "code",
   "execution_count": null,
   "metadata": {},
   "outputs": [],
   "source": []
  },
  {
   "cell_type": "code",
   "execution_count": 71,
   "metadata": {},
   "outputs": [],
   "source": [
    "def get_item_profile(item_id):\n",
    "    return df.loc[df['id']==item_id]"
   ]
  },
  {
   "cell_type": "code",
   "execution_count": 73,
   "metadata": {},
   "outputs": [
    {
     "data": {
      "text/html": [
       "<div>\n",
       "<style scoped>\n",
       "    .dataframe tbody tr th:only-of-type {\n",
       "        vertical-align: middle;\n",
       "    }\n",
       "\n",
       "    .dataframe tbody tr th {\n",
       "        vertical-align: top;\n",
       "    }\n",
       "\n",
       "    .dataframe thead th {\n",
       "        text-align: right;\n",
       "    }\n",
       "</style>\n",
       "<table border=\"1\" class=\"dataframe\">\n",
       "  <thead>\n",
       "    <tr style=\"text-align: right;\">\n",
       "      <th></th>\n",
       "      <th>sharpness</th>\n",
       "      <th>saturation</th>\n",
       "      <th>brightness</th>\n",
       "      <th>entropy</th>\n",
       "      <th>contrast</th>\n",
       "      <th>colorfulness</th>\n",
       "      <th>id</th>\n",
       "    </tr>\n",
       "  </thead>\n",
       "  <tbody>\n",
       "    <tr>\n",
       "      <th>0</th>\n",
       "      <td>45.042899</td>\n",
       "      <td>60.625145</td>\n",
       "      <td>3.839637</td>\n",
       "      <td>965.051933</td>\n",
       "      <td>76.142303</td>\n",
       "      <td>62.953686</td>\n",
       "      <td>63</td>\n",
       "    </tr>\n",
       "  </tbody>\n",
       "</table>\n",
       "</div>"
      ],
      "text/plain": [
       "   sharpness  saturation  brightness     entropy   contrast  colorfulness  id\n",
       "0  45.042899   60.625145    3.839637  965.051933  76.142303     62.953686  63"
      ]
     },
     "execution_count": 73,
     "metadata": {},
     "output_type": "execute_result"
    }
   ],
   "source": [
    "get_item_profile(63)"
   ]
  }
 ],
 "metadata": {
  "kernelspec": {
   "display_name": "Python 3.9.13 ('REC')",
   "language": "python",
   "name": "python3"
  },
  "language_info": {
   "codemirror_mode": {
    "name": "ipython",
    "version": 3
   },
   "file_extension": ".py",
   "mimetype": "text/x-python",
   "name": "python",
   "nbconvert_exporter": "python",
   "pygments_lexer": "ipython3",
   "version": "3.9.13"
  },
  "orig_nbformat": 4,
  "vscode": {
   "interpreter": {
    "hash": "a9d68ffb4d4a094cda9e6175a2e5a1172badaaff3172f5dd32bf6bbc11bca043"
   }
  }
 },
 "nbformat": 4,
 "nbformat_minor": 2
}
