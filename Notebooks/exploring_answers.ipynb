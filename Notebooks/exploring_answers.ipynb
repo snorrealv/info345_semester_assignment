{
 "cells": [
  {
   "cell_type": "code",
   "execution_count": 2,
   "metadata": {},
   "outputs": [],
   "source": [
    "import pandas as pd\n",
    "import json"
   ]
  },
  {
   "cell_type": "code",
   "execution_count": 3,
   "metadata": {},
   "outputs": [],
   "source": [
    "df = pd.read_json('../data/user_responses.json')"
   ]
  },
  {
   "cell_type": "code",
   "execution_count": 4,
   "metadata": {},
   "outputs": [
    {
     "data": {
      "text/plain": [
       "0    {'CF': ['990', '586', '797', '390', '49', '268...\n",
       "1    {'CF': ['762', '394', '73', '635', '528', '288...\n",
       "2    {'CF': ['44', '558', '394', '77', '726', '107'...\n",
       "3    {'CF': ['968', '168', '495', '888', '198', '97...\n",
       "4    {'CF': ['120', '733', '2', '599', '944', '869'...\n",
       "Name: recommendations, dtype: object"
      ]
     },
     "execution_count": 4,
     "metadata": {},
     "output_type": "execute_result"
    }
   ],
   "source": [
    "df.recommendations.head()"
   ]
  },
  {
   "cell_type": "code",
   "execution_count": 5,
   "metadata": {},
   "outputs": [],
   "source": [
    "json_struct = json.loads(df.to_json(orient=\"records\"))    \n",
    "df_flat = pd.json_normalize(json_struct) #use pd.io.json\n"
   ]
  },
  {
   "cell_type": "code",
   "execution_count": 6,
   "metadata": {},
   "outputs": [],
   "source": [
    "df_keep = df_flat[['userId', 'formAnswers.Generation.question_1','formAnswers.Generation.question_2','formAnswers.Generation.question_3','recommendations.CF',\n",
    "'recommendations.VCS']]"
   ]
  },
  {
   "cell_type": "code",
   "execution_count": 7,
   "metadata": {},
   "outputs": [],
   "source": [
    "df_keep = df_keep.rename(columns={\n",
    "    \"formAnswers.Generation.question_1\": \"question_1\",\n",
    "    \"formAnswers.Generation.question_2\": \"question_2\",\n",
    "    \"formAnswers.Generation.question_3\": \"question_3\", \n",
    "    \"recommendations.CF\": \"CF\",\n",
    "    \"recommendations.VCS\": \"VCS\"\n",
    "    })"
   ]
  },
  {
   "cell_type": "code",
   "execution_count": 8,
   "metadata": {},
   "outputs": [
    {
     "data": {
      "text/html": [
       "<div>\n",
       "<style scoped>\n",
       "    .dataframe tbody tr th:only-of-type {\n",
       "        vertical-align: middle;\n",
       "    }\n",
       "\n",
       "    .dataframe tbody tr th {\n",
       "        vertical-align: top;\n",
       "    }\n",
       "\n",
       "    .dataframe thead th {\n",
       "        text-align: right;\n",
       "    }\n",
       "</style>\n",
       "<table border=\"1\" class=\"dataframe\">\n",
       "  <thead>\n",
       "    <tr style=\"text-align: right;\">\n",
       "      <th></th>\n",
       "      <th>userId</th>\n",
       "      <th>question_1</th>\n",
       "      <th>question_2</th>\n",
       "      <th>question_3</th>\n",
       "      <th>CF</th>\n",
       "      <th>VCS</th>\n",
       "    </tr>\n",
       "  </thead>\n",
       "  <tbody>\n",
       "    <tr>\n",
       "      <th>0</th>\n",
       "      <td>75674</td>\n",
       "      <td>[A]</td>\n",
       "      <td>[Strongly Agree]</td>\n",
       "      <td>[Strongly Agree]</td>\n",
       "      <td>[990, 586, 797, 390, 49, 268, 510, 894, 203, 9...</td>\n",
       "      <td>[797, 990, 586, 49, 510, 970, 327, 894, 250, 2...</td>\n",
       "    </tr>\n",
       "    <tr>\n",
       "      <th>1</th>\n",
       "      <td>39849</td>\n",
       "      <td>[A]</td>\n",
       "      <td>[Strongly Agree]</td>\n",
       "      <td>[Strongly Agree]</td>\n",
       "      <td>[762, 394, 73, 635, 528, 288, 383, 410, 438, 5...</td>\n",
       "      <td>[73, 383, 394, 410, 762, 288, 563, 528, 228, 2...</td>\n",
       "    </tr>\n",
       "    <tr>\n",
       "      <th>2</th>\n",
       "      <td>22986</td>\n",
       "      <td>[A]</td>\n",
       "      <td>[Agree]</td>\n",
       "      <td>[Strongly Agree]</td>\n",
       "      <td>[44, 558, 394, 77, 726, 107, 315, 686, 35, 384...</td>\n",
       "      <td>[558, 77, 394, 315, 686, 107, 35, 384, 726, 76...</td>\n",
       "    </tr>\n",
       "    <tr>\n",
       "      <th>3</th>\n",
       "      <td>78878</td>\n",
       "      <td>[A]</td>\n",
       "      <td>[Agree]</td>\n",
       "      <td>[Disagree]</td>\n",
       "      <td>[968, 168, 495, 888, 198, 978, 513, 552, 450, ...</td>\n",
       "      <td>[888, 552, 450, 68, 714, 329, 518, 978, 513, 4...</td>\n",
       "    </tr>\n",
       "    <tr>\n",
       "      <th>4</th>\n",
       "      <td>63931</td>\n",
       "      <td>[A]</td>\n",
       "      <td>[Agree]</td>\n",
       "      <td>[Neither agree nor disagree]</td>\n",
       "      <td>[120, 733, 2, 599, 944, 869, 755, 910, 196, 79...</td>\n",
       "      <td>[120, 733, 944, 869, 196, 755, 779, 790, 649, ...</td>\n",
       "    </tr>\n",
       "  </tbody>\n",
       "</table>\n",
       "</div>"
      ],
      "text/plain": [
       "   userId question_1        question_2                    question_3  \\\n",
       "0   75674        [A]  [Strongly Agree]              [Strongly Agree]   \n",
       "1   39849        [A]  [Strongly Agree]              [Strongly Agree]   \n",
       "2   22986        [A]           [Agree]              [Strongly Agree]   \n",
       "3   78878        [A]           [Agree]                    [Disagree]   \n",
       "4   63931        [A]           [Agree]  [Neither agree nor disagree]   \n",
       "\n",
       "                                                  CF  \\\n",
       "0  [990, 586, 797, 390, 49, 268, 510, 894, 203, 9...   \n",
       "1  [762, 394, 73, 635, 528, 288, 383, 410, 438, 5...   \n",
       "2  [44, 558, 394, 77, 726, 107, 315, 686, 35, 384...   \n",
       "3  [968, 168, 495, 888, 198, 978, 513, 552, 450, ...   \n",
       "4  [120, 733, 2, 599, 944, 869, 755, 910, 196, 79...   \n",
       "\n",
       "                                                 VCS  \n",
       "0  [797, 990, 586, 49, 510, 970, 327, 894, 250, 2...  \n",
       "1  [73, 383, 394, 410, 762, 288, 563, 528, 228, 2...  \n",
       "2  [558, 77, 394, 315, 686, 107, 35, 384, 726, 76...  \n",
       "3  [888, 552, 450, 68, 714, 329, 518, 978, 513, 4...  \n",
       "4  [120, 733, 944, 869, 196, 755, 779, 790, 649, ...  "
      ]
     },
     "execution_count": 8,
     "metadata": {},
     "output_type": "execute_result"
    }
   ],
   "source": [
    "df_keep.head()"
   ]
  },
  {
   "cell_type": "code",
   "execution_count": 9,
   "metadata": {},
   "outputs": [],
   "source": [
    "df_keep['weight'] = 1"
   ]
  },
  {
   "cell_type": "code",
   "execution_count": 10,
   "metadata": {},
   "outputs": [],
   "source": [
    "df_keep['question_1'] = df_keep['question_1'].apply(lambda x: x[0])\n",
    "df_keep['question_2'] = df_keep['question_2'].apply(lambda x: x[0])\n",
    "df_keep['question_3'] = df_keep['question_3'].apply(lambda x: x[0])"
   ]
  },
  {
   "cell_type": "code",
   "execution_count": 11,
   "metadata": {},
   "outputs": [
    {
     "data": {
      "text/html": [
       "<div>\n",
       "<style scoped>\n",
       "    .dataframe tbody tr th:only-of-type {\n",
       "        vertical-align: middle;\n",
       "    }\n",
       "\n",
       "    .dataframe tbody tr th {\n",
       "        vertical-align: top;\n",
       "    }\n",
       "\n",
       "    .dataframe thead th {\n",
       "        text-align: right;\n",
       "    }\n",
       "</style>\n",
       "<table border=\"1\" class=\"dataframe\">\n",
       "  <thead>\n",
       "    <tr style=\"text-align: right;\">\n",
       "      <th></th>\n",
       "      <th>userId</th>\n",
       "      <th>question_1</th>\n",
       "      <th>question_2</th>\n",
       "      <th>question_3</th>\n",
       "      <th>CF</th>\n",
       "      <th>VCS</th>\n",
       "      <th>weight</th>\n",
       "    </tr>\n",
       "  </thead>\n",
       "  <tbody>\n",
       "    <tr>\n",
       "      <th>0</th>\n",
       "      <td>75674</td>\n",
       "      <td>A</td>\n",
       "      <td>Strongly Agree</td>\n",
       "      <td>Strongly Agree</td>\n",
       "      <td>[990, 586, 797, 390, 49, 268, 510, 894, 203, 9...</td>\n",
       "      <td>[797, 990, 586, 49, 510, 970, 327, 894, 250, 2...</td>\n",
       "      <td>1</td>\n",
       "    </tr>\n",
       "    <tr>\n",
       "      <th>1</th>\n",
       "      <td>39849</td>\n",
       "      <td>A</td>\n",
       "      <td>Strongly Agree</td>\n",
       "      <td>Strongly Agree</td>\n",
       "      <td>[762, 394, 73, 635, 528, 288, 383, 410, 438, 5...</td>\n",
       "      <td>[73, 383, 394, 410, 762, 288, 563, 528, 228, 2...</td>\n",
       "      <td>1</td>\n",
       "    </tr>\n",
       "    <tr>\n",
       "      <th>2</th>\n",
       "      <td>22986</td>\n",
       "      <td>A</td>\n",
       "      <td>Agree</td>\n",
       "      <td>Strongly Agree</td>\n",
       "      <td>[44, 558, 394, 77, 726, 107, 315, 686, 35, 384...</td>\n",
       "      <td>[558, 77, 394, 315, 686, 107, 35, 384, 726, 76...</td>\n",
       "      <td>1</td>\n",
       "    </tr>\n",
       "    <tr>\n",
       "      <th>3</th>\n",
       "      <td>78878</td>\n",
       "      <td>A</td>\n",
       "      <td>Agree</td>\n",
       "      <td>Disagree</td>\n",
       "      <td>[968, 168, 495, 888, 198, 978, 513, 552, 450, ...</td>\n",
       "      <td>[888, 552, 450, 68, 714, 329, 518, 978, 513, 4...</td>\n",
       "      <td>1</td>\n",
       "    </tr>\n",
       "    <tr>\n",
       "      <th>4</th>\n",
       "      <td>63931</td>\n",
       "      <td>A</td>\n",
       "      <td>Agree</td>\n",
       "      <td>Neither agree nor disagree</td>\n",
       "      <td>[120, 733, 2, 599, 944, 869, 755, 910, 196, 79...</td>\n",
       "      <td>[120, 733, 944, 869, 196, 755, 779, 790, 649, ...</td>\n",
       "      <td>1</td>\n",
       "    </tr>\n",
       "  </tbody>\n",
       "</table>\n",
       "</div>"
      ],
      "text/plain": [
       "   userId question_1      question_2                  question_3  \\\n",
       "0   75674          A  Strongly Agree              Strongly Agree   \n",
       "1   39849          A  Strongly Agree              Strongly Agree   \n",
       "2   22986          A           Agree              Strongly Agree   \n",
       "3   78878          A           Agree                    Disagree   \n",
       "4   63931          A           Agree  Neither agree nor disagree   \n",
       "\n",
       "                                                  CF  \\\n",
       "0  [990, 586, 797, 390, 49, 268, 510, 894, 203, 9...   \n",
       "1  [762, 394, 73, 635, 528, 288, 383, 410, 438, 5...   \n",
       "2  [44, 558, 394, 77, 726, 107, 315, 686, 35, 384...   \n",
       "3  [968, 168, 495, 888, 198, 978, 513, 552, 450, ...   \n",
       "4  [120, 733, 2, 599, 944, 869, 755, 910, 196, 79...   \n",
       "\n",
       "                                                 VCS  weight  \n",
       "0  [797, 990, 586, 49, 510, 970, 327, 894, 250, 2...       1  \n",
       "1  [73, 383, 394, 410, 762, 288, 563, 528, 228, 2...       1  \n",
       "2  [558, 77, 394, 315, 686, 107, 35, 384, 726, 76...       1  \n",
       "3  [888, 552, 450, 68, 714, 329, 518, 978, 513, 4...       1  \n",
       "4  [120, 733, 944, 869, 196, 755, 779, 790, 649, ...       1  "
      ]
     },
     "execution_count": 11,
     "metadata": {},
     "output_type": "execute_result"
    }
   ],
   "source": [
    "df_keep.head()"
   ]
  },
  {
   "cell_type": "code",
   "execution_count": 12,
   "metadata": {},
   "outputs": [
    {
     "data": {
      "text/html": [
       "<div>\n",
       "<style scoped>\n",
       "    .dataframe tbody tr th:only-of-type {\n",
       "        vertical-align: middle;\n",
       "    }\n",
       "\n",
       "    .dataframe tbody tr th {\n",
       "        vertical-align: top;\n",
       "    }\n",
       "\n",
       "    .dataframe thead th {\n",
       "        text-align: right;\n",
       "    }\n",
       "</style>\n",
       "<table border=\"1\" class=\"dataframe\">\n",
       "  <thead>\n",
       "    <tr style=\"text-align: right;\">\n",
       "      <th></th>\n",
       "      <th>userId</th>\n",
       "      <th>question_1</th>\n",
       "      <th>question_2</th>\n",
       "      <th>question_3</th>\n",
       "      <th>CF</th>\n",
       "      <th>VCS</th>\n",
       "      <th>weight</th>\n",
       "      <th>new_weighted</th>\n",
       "    </tr>\n",
       "  </thead>\n",
       "  <tbody>\n",
       "    <tr>\n",
       "      <th>0</th>\n",
       "      <td>75674</td>\n",
       "      <td>A</td>\n",
       "      <td>Strongly Agree</td>\n",
       "      <td>Strongly Agree</td>\n",
       "      <td>[990, 586, 797, 390, 49, 268, 510, 894, 203, 9...</td>\n",
       "      <td>[797, 990, 586, 49, 510, 970, 327, 894, 250, 2...</td>\n",
       "      <td>1</td>\n",
       "      <td>0.21</td>\n",
       "    </tr>\n",
       "    <tr>\n",
       "      <th>1</th>\n",
       "      <td>39849</td>\n",
       "      <td>A</td>\n",
       "      <td>Strongly Agree</td>\n",
       "      <td>Strongly Agree</td>\n",
       "      <td>[762, 394, 73, 635, 528, 288, 383, 410, 438, 5...</td>\n",
       "      <td>[73, 383, 394, 410, 762, 288, 563, 528, 228, 2...</td>\n",
       "      <td>1</td>\n",
       "      <td>0.21</td>\n",
       "    </tr>\n",
       "    <tr>\n",
       "      <th>2</th>\n",
       "      <td>22986</td>\n",
       "      <td>A</td>\n",
       "      <td>Agree</td>\n",
       "      <td>Strongly Agree</td>\n",
       "      <td>[44, 558, 394, 77, 726, 107, 315, 686, 35, 384...</td>\n",
       "      <td>[558, 77, 394, 315, 686, 107, 35, 384, 726, 76...</td>\n",
       "      <td>1</td>\n",
       "      <td>0.28</td>\n",
       "    </tr>\n",
       "    <tr>\n",
       "      <th>3</th>\n",
       "      <td>78878</td>\n",
       "      <td>A</td>\n",
       "      <td>Agree</td>\n",
       "      <td>Disagree</td>\n",
       "      <td>[968, 168, 495, 888, 198, 978, 513, 552, 450, ...</td>\n",
       "      <td>[888, 552, 450, 68, 714, 329, 518, 978, 513, 4...</td>\n",
       "      <td>1</td>\n",
       "      <td>0.12</td>\n",
       "    </tr>\n",
       "    <tr>\n",
       "      <th>4</th>\n",
       "      <td>63931</td>\n",
       "      <td>A</td>\n",
       "      <td>Agree</td>\n",
       "      <td>Neither agree nor disagree</td>\n",
       "      <td>[120, 733, 2, 599, 944, 869, 755, 910, 196, 79...</td>\n",
       "      <td>[120, 733, 944, 869, 196, 755, 779, 790, 649, ...</td>\n",
       "      <td>1</td>\n",
       "      <td>0.16</td>\n",
       "    </tr>\n",
       "  </tbody>\n",
       "</table>\n",
       "</div>"
      ],
      "text/plain": [
       "   userId question_1      question_2                  question_3  \\\n",
       "0   75674          A  Strongly Agree              Strongly Agree   \n",
       "1   39849          A  Strongly Agree              Strongly Agree   \n",
       "2   22986          A           Agree              Strongly Agree   \n",
       "3   78878          A           Agree                    Disagree   \n",
       "4   63931          A           Agree  Neither agree nor disagree   \n",
       "\n",
       "                                                  CF  \\\n",
       "0  [990, 586, 797, 390, 49, 268, 510, 894, 203, 9...   \n",
       "1  [762, 394, 73, 635, 528, 288, 383, 410, 438, 5...   \n",
       "2  [44, 558, 394, 77, 726, 107, 315, 686, 35, 384...   \n",
       "3  [968, 168, 495, 888, 198, 978, 513, 552, 450, ...   \n",
       "4  [120, 733, 2, 599, 944, 869, 755, 910, 196, 79...   \n",
       "\n",
       "                                                 VCS  weight  new_weighted  \n",
       "0  [797, 990, 586, 49, 510, 970, 327, 894, 250, 2...       1          0.21  \n",
       "1  [73, 383, 394, 410, 762, 288, 563, 528, 228, 2...       1          0.21  \n",
       "2  [558, 77, 394, 315, 686, 107, 35, 384, 726, 76...       1          0.28  \n",
       "3  [888, 552, 450, 68, 714, 329, 518, 978, 513, 4...       1          0.12  \n",
       "4  [120, 733, 944, 869, 196, 755, 779, 790, 649, ...       1          0.16  "
      ]
     },
     "execution_count": 12,
     "metadata": {},
     "output_type": "execute_result"
    }
   ],
   "source": [
    "def reweight(df):\n",
    "    translate_negative = {'Strongly Agree':0.3, 'Agree':0.4, 'Neither agree nor disagree':0.5, 'Disagree':0.6, 'Strongly Disagree':0.7}\n",
    "    translate_positive = {'Strongly Agree':0.7, 'Agree':0.6, 'Neither agree nor disagree':0.4, 'Disagree':0.3, 'Strongly Disagree':0.3}\n",
    "    return [(df.weight * translate_negative[df.question_2] *  translate_positive[df.question_3])]\n",
    "\n",
    "df_keep2 = df_keep\n",
    "df_keep2['new_weighted'] = df_keep.apply(reweight, axis=1,result_type='expand')"
   ]
  },
  {
   "cell_type": "code",
   "execution_count": 14,
   "metadata": {},
   "outputs": [
    {
     "data": {
      "text/html": [
       "<div>\n",
       "<style scoped>\n",
       "    .dataframe tbody tr th:only-of-type {\n",
       "        vertical-align: middle;\n",
       "    }\n",
       "\n",
       "    .dataframe tbody tr th {\n",
       "        vertical-align: top;\n",
       "    }\n",
       "\n",
       "    .dataframe thead th {\n",
       "        text-align: right;\n",
       "    }\n",
       "</style>\n",
       "<table border=\"1\" class=\"dataframe\">\n",
       "  <thead>\n",
       "    <tr style=\"text-align: right;\">\n",
       "      <th></th>\n",
       "      <th>userId</th>\n",
       "      <th>question_1</th>\n",
       "      <th>question_2</th>\n",
       "      <th>question_3</th>\n",
       "      <th>CF</th>\n",
       "      <th>VCS</th>\n",
       "      <th>weight</th>\n",
       "      <th>new_weighted</th>\n",
       "    </tr>\n",
       "  </thead>\n",
       "  <tbody>\n",
       "    <tr>\n",
       "      <th>0</th>\n",
       "      <td>75674</td>\n",
       "      <td>A</td>\n",
       "      <td>Strongly Agree</td>\n",
       "      <td>Strongly Agree</td>\n",
       "      <td>[990, 586, 797, 390, 49, 268, 510, 894, 203, 9...</td>\n",
       "      <td>[797, 990, 586, 49, 510, 970, 327, 894, 250, 2...</td>\n",
       "      <td>1</td>\n",
       "      <td>0.21</td>\n",
       "    </tr>\n",
       "    <tr>\n",
       "      <th>1</th>\n",
       "      <td>39849</td>\n",
       "      <td>A</td>\n",
       "      <td>Strongly Agree</td>\n",
       "      <td>Strongly Agree</td>\n",
       "      <td>[762, 394, 73, 635, 528, 288, 383, 410, 438, 5...</td>\n",
       "      <td>[73, 383, 394, 410, 762, 288, 563, 528, 228, 2...</td>\n",
       "      <td>1</td>\n",
       "      <td>0.21</td>\n",
       "    </tr>\n",
       "    <tr>\n",
       "      <th>2</th>\n",
       "      <td>22986</td>\n",
       "      <td>A</td>\n",
       "      <td>Agree</td>\n",
       "      <td>Strongly Agree</td>\n",
       "      <td>[44, 558, 394, 77, 726, 107, 315, 686, 35, 384...</td>\n",
       "      <td>[558, 77, 394, 315, 686, 107, 35, 384, 726, 76...</td>\n",
       "      <td>1</td>\n",
       "      <td>0.28</td>\n",
       "    </tr>\n",
       "    <tr>\n",
       "      <th>3</th>\n",
       "      <td>78878</td>\n",
       "      <td>A</td>\n",
       "      <td>Agree</td>\n",
       "      <td>Disagree</td>\n",
       "      <td>[968, 168, 495, 888, 198, 978, 513, 552, 450, ...</td>\n",
       "      <td>[888, 552, 450, 68, 714, 329, 518, 978, 513, 4...</td>\n",
       "      <td>1</td>\n",
       "      <td>0.12</td>\n",
       "    </tr>\n",
       "    <tr>\n",
       "      <th>4</th>\n",
       "      <td>63931</td>\n",
       "      <td>A</td>\n",
       "      <td>Agree</td>\n",
       "      <td>Neither agree nor disagree</td>\n",
       "      <td>[120, 733, 2, 599, 944, 869, 755, 910, 196, 79...</td>\n",
       "      <td>[120, 733, 944, 869, 196, 755, 779, 790, 649, ...</td>\n",
       "      <td>1</td>\n",
       "      <td>0.16</td>\n",
       "    </tr>\n",
       "  </tbody>\n",
       "</table>\n",
       "</div>"
      ],
      "text/plain": [
       "   userId question_1      question_2                  question_3  \\\n",
       "0   75674          A  Strongly Agree              Strongly Agree   \n",
       "1   39849          A  Strongly Agree              Strongly Agree   \n",
       "2   22986          A           Agree              Strongly Agree   \n",
       "3   78878          A           Agree                    Disagree   \n",
       "4   63931          A           Agree  Neither agree nor disagree   \n",
       "\n",
       "                                                  CF  \\\n",
       "0  [990, 586, 797, 390, 49, 268, 510, 894, 203, 9...   \n",
       "1  [762, 394, 73, 635, 528, 288, 383, 410, 438, 5...   \n",
       "2  [44, 558, 394, 77, 726, 107, 315, 686, 35, 384...   \n",
       "3  [968, 168, 495, 888, 198, 978, 513, 552, 450, ...   \n",
       "4  [120, 733, 2, 599, 944, 869, 755, 910, 196, 79...   \n",
       "\n",
       "                                                 VCS  weight  new_weighted  \n",
       "0  [797, 990, 586, 49, 510, 970, 327, 894, 250, 2...       1          0.21  \n",
       "1  [73, 383, 394, 410, 762, 288, 563, 528, 228, 2...       1          0.21  \n",
       "2  [558, 77, 394, 315, 686, 107, 35, 384, 726, 76...       1          0.28  \n",
       "3  [888, 552, 450, 68, 714, 329, 518, 978, 513, 4...       1          0.12  \n",
       "4  [120, 733, 944, 869, 196, 755, 779, 790, 649, ...       1          0.16  "
      ]
     },
     "execution_count": 14,
     "metadata": {},
     "output_type": "execute_result"
    }
   ],
   "source": [
    "df_keep2.head()"
   ]
  },
  {
   "cell_type": "markdown",
   "metadata": {},
   "source": [
    "### Absoulte Average"
   ]
  },
  {
   "cell_type": "code",
   "execution_count": 18,
   "metadata": {},
   "outputs": [
    {
     "data": {
      "text/plain": [
       "question_1\n",
       "A    0.093333\n",
       "B    0.103333\n",
       "Name: new_weighted, dtype: float64"
      ]
     },
     "execution_count": 18,
     "metadata": {},
     "output_type": "execute_result"
    }
   ],
   "source": [
    "df_keep2.groupby('question_1')['new_weighted'].sum()/df_keep2.shape[0]"
   ]
  },
  {
   "cell_type": "code",
   "execution_count": 27,
   "metadata": {},
   "outputs": [
    {
     "name": "stdout",
     "output_type": "stream",
     "text": [
      "\\begin{tabular}{ll}\n",
      "\\toprule\n",
      "{} & freq \\\\\n",
      "\\midrule\n",
      "Agree                      &   12 \\\\\n",
      "Disagree                   &    3 \\\\\n",
      "Neither agree nor disagree &    6 \\\\\n",
      "Strongly Agree             &   15 \\\\\n",
      "\\bottomrule\n",
      "\\end{tabular}\n",
      "\n"
     ]
    },
    {
     "name": "stderr",
     "output_type": "stream",
     "text": [
      "/var/folders/_b/xsxs0vzs0dg6t2wd_jx_dqx00000gn/T/ipykernel_23008/2637567958.py:3: FutureWarning: In future versions `DataFrame.to_latex` is expected to utilise the base implementation of `Styler.to_latex` for formatting and rendering. The arguments signature may therefore change. It is recommended instead to use `DataFrame.style.to_latex` which also contains additional functionality.\n",
      "  print(data[['freq']].to_latex())\n"
     ]
    }
   ],
   "source": [
    "data = df_keep2.groupby('question_2')['question_2'].describe()\n",
    "data.index.name = None\n",
    "print(data[['freq']].to_latex())"
   ]
  },
  {
   "cell_type": "markdown",
   "metadata": {},
   "source": [
    "### Relative Average"
   ]
  },
  {
   "cell_type": "code",
   "execution_count": 35,
   "metadata": {},
   "outputs": [],
   "source": [
    "dataA = df_keep2.groupby('question_1')\n",
    "dataB = df_keep2.groupby('question_1')"
   ]
  },
  {
   "cell_type": "code",
   "execution_count": 45,
   "metadata": {},
   "outputs": [
    {
     "data": {
      "text/plain": [
       "question_1\n",
       "A    0.186667\n",
       "B    0.206667\n",
       "Name: new_weighted, dtype: float64"
      ]
     },
     "execution_count": 45,
     "metadata": {},
     "output_type": "execute_result"
    }
   ],
   "source": [
    "# Get n of A\n",
    "n = df_keep2.groupby('question_1').count().userId.A\n",
    "dataA = df_keep2.groupby('question_1')['new_weighted'].sum()/n\n",
    "dataA"
   ]
  },
  {
   "cell_type": "code",
   "execution_count": 46,
   "metadata": {},
   "outputs": [
    {
     "data": {
      "text/plain": [
       "question_1\n",
       "A    0.186667\n",
       "B    0.206667\n",
       "Name: new_weighted, dtype: float64"
      ]
     },
     "execution_count": 46,
     "metadata": {},
     "output_type": "execute_result"
    }
   ],
   "source": [
    "# Get n of A\n",
    "n = df_keep2.groupby('question_1').count().userId.B\n",
    "dataB = df_keep2.groupby('question_1')['new_weighted'].sum()/n\n",
    "dataB"
   ]
  },
  {
   "cell_type": "code",
   "execution_count": 15,
   "metadata": {},
   "outputs": [
    {
     "data": {
      "text/html": [
       "<div>\n",
       "<style scoped>\n",
       "    .dataframe tbody tr th:only-of-type {\n",
       "        vertical-align: middle;\n",
       "    }\n",
       "\n",
       "    .dataframe tbody tr th {\n",
       "        vertical-align: top;\n",
       "    }\n",
       "\n",
       "    .dataframe thead th {\n",
       "        text-align: right;\n",
       "    }\n",
       "</style>\n",
       "<table border=\"1\" class=\"dataframe\">\n",
       "  <thead>\n",
       "    <tr style=\"text-align: right;\">\n",
       "      <th></th>\n",
       "      <th>count</th>\n",
       "      <th>unique</th>\n",
       "      <th>top</th>\n",
       "      <th>freq</th>\n",
       "    </tr>\n",
       "  </thead>\n",
       "  <tbody>\n",
       "    <tr>\n",
       "      <th>Agree</th>\n",
       "      <td>13</td>\n",
       "      <td>1</td>\n",
       "      <td>Agree</td>\n",
       "      <td>13</td>\n",
       "    </tr>\n",
       "    <tr>\n",
       "      <th>Disagree</th>\n",
       "      <td>5</td>\n",
       "      <td>1</td>\n",
       "      <td>Disagree</td>\n",
       "      <td>5</td>\n",
       "    </tr>\n",
       "    <tr>\n",
       "      <th>Neither agree nor disagree</th>\n",
       "      <td>13</td>\n",
       "      <td>1</td>\n",
       "      <td>Neither agree nor disagree</td>\n",
       "      <td>13</td>\n",
       "    </tr>\n",
       "    <tr>\n",
       "      <th>Strongly Agree</th>\n",
       "      <td>5</td>\n",
       "      <td>1</td>\n",
       "      <td>Strongly Agree</td>\n",
       "      <td>5</td>\n",
       "    </tr>\n",
       "  </tbody>\n",
       "</table>\n",
       "</div>"
      ],
      "text/plain": [
       "                           count unique                         top freq\n",
       "Agree                         13      1                       Agree   13\n",
       "Disagree                       5      1                    Disagree    5\n",
       "Neither agree nor disagree    13      1  Neither agree nor disagree   13\n",
       "Strongly Agree                 5      1              Strongly Agree    5"
      ]
     },
     "execution_count": 15,
     "metadata": {},
     "output_type": "execute_result"
    }
   ],
   "source": [
    "data = df_keep2.groupby('question_3')['question_3'].describe()\n",
    "data.index.name = None\n",
    "# print(data[['freq']].to_latex())\n",
    "data"
   ]
  },
  {
   "cell_type": "code",
   "execution_count": 16,
   "metadata": {},
   "outputs": [],
   "source": [
    "submission = {\"1854\": \"5\", \"1880\": \"4\", \"1924\": \"5\", \"2002\": \"2\", \"2055\": \"1\",\"7011\": \"5\", \"6002\": \"4\", \"5967\": \"5\", \"5003\": \"4\", \"50\": \"1\"}\n",
    "subdf = pd.DataFrame(submission, columns=['id', 'rated'])"
   ]
  },
  {
   "cell_type": "code",
   "execution_count": 28,
   "metadata": {},
   "outputs": [
    {
     "data": {
      "text/html": [
       "<div>\n",
       "<style scoped>\n",
       "    .dataframe tbody tr th:only-of-type {\n",
       "        vertical-align: middle;\n",
       "    }\n",
       "\n",
       "    .dataframe tbody tr th {\n",
       "        vertical-align: top;\n",
       "    }\n",
       "\n",
       "    .dataframe thead th {\n",
       "        text-align: right;\n",
       "    }\n",
       "</style>\n",
       "<table border=\"1\" class=\"dataframe\">\n",
       "  <thead>\n",
       "    <tr style=\"text-align: right;\">\n",
       "      <th></th>\n",
       "      <th>userId</th>\n",
       "      <th>question_1</th>\n",
       "      <th>question_2</th>\n",
       "      <th>question_3</th>\n",
       "      <th>CF</th>\n",
       "      <th>VCS</th>\n",
       "      <th>weight</th>\n",
       "      <th>new_weighted</th>\n",
       "    </tr>\n",
       "  </thead>\n",
       "  <tbody>\n",
       "    <tr>\n",
       "      <th>0</th>\n",
       "      <td>75674</td>\n",
       "      <td>A</td>\n",
       "      <td>Strongly Agree</td>\n",
       "      <td>Strongly Agree</td>\n",
       "      <td>[990, 586, 797, 390, 49, 268, 510, 894, 203, 9...</td>\n",
       "      <td>[797, 990, 586, 49, 510, 970, 327, 894, 250, 2...</td>\n",
       "      <td>1</td>\n",
       "      <td>0.005833</td>\n",
       "    </tr>\n",
       "    <tr>\n",
       "      <th>1</th>\n",
       "      <td>39849</td>\n",
       "      <td>A</td>\n",
       "      <td>Strongly Agree</td>\n",
       "      <td>Strongly Agree</td>\n",
       "      <td>[762, 394, 73, 635, 528, 288, 383, 410, 438, 5...</td>\n",
       "      <td>[73, 383, 394, 410, 762, 288, 563, 528, 228, 2...</td>\n",
       "      <td>1</td>\n",
       "      <td>0.005833</td>\n",
       "    </tr>\n",
       "    <tr>\n",
       "      <th>2</th>\n",
       "      <td>22986</td>\n",
       "      <td>A</td>\n",
       "      <td>Agree</td>\n",
       "      <td>Strongly Agree</td>\n",
       "      <td>[44, 558, 394, 77, 726, 107, 315, 686, 35, 384...</td>\n",
       "      <td>[558, 77, 394, 315, 686, 107, 35, 384, 726, 76...</td>\n",
       "      <td>1</td>\n",
       "      <td>0.007778</td>\n",
       "    </tr>\n",
       "    <tr>\n",
       "      <th>3</th>\n",
       "      <td>78878</td>\n",
       "      <td>A</td>\n",
       "      <td>Agree</td>\n",
       "      <td>Disagree</td>\n",
       "      <td>[968, 168, 495, 888, 198, 978, 513, 552, 450, ...</td>\n",
       "      <td>[888, 552, 450, 68, 714, 329, 518, 978, 513, 4...</td>\n",
       "      <td>1</td>\n",
       "      <td>0.003333</td>\n",
       "    </tr>\n",
       "    <tr>\n",
       "      <th>4</th>\n",
       "      <td>63931</td>\n",
       "      <td>A</td>\n",
       "      <td>Agree</td>\n",
       "      <td>Neither agree nor disagree</td>\n",
       "      <td>[120, 733, 2, 599, 944, 869, 755, 910, 196, 79...</td>\n",
       "      <td>[120, 733, 944, 869, 196, 755, 779, 790, 649, ...</td>\n",
       "      <td>1</td>\n",
       "      <td>0.004444</td>\n",
       "    </tr>\n",
       "  </tbody>\n",
       "</table>\n",
       "</div>"
      ],
      "text/plain": [
       "   userId question_1      question_2                  question_3  \\\n",
       "0   75674          A  Strongly Agree              Strongly Agree   \n",
       "1   39849          A  Strongly Agree              Strongly Agree   \n",
       "2   22986          A           Agree              Strongly Agree   \n",
       "3   78878          A           Agree                    Disagree   \n",
       "4   63931          A           Agree  Neither agree nor disagree   \n",
       "\n",
       "                                                  CF  \\\n",
       "0  [990, 586, 797, 390, 49, 268, 510, 894, 203, 9...   \n",
       "1  [762, 394, 73, 635, 528, 288, 383, 410, 438, 5...   \n",
       "2  [44, 558, 394, 77, 726, 107, 315, 686, 35, 384...   \n",
       "3  [968, 168, 495, 888, 198, 978, 513, 552, 450, ...   \n",
       "4  [120, 733, 2, 599, 944, 869, 755, 910, 196, 79...   \n",
       "\n",
       "                                                 VCS  weight  new_weighted  \n",
       "0  [797, 990, 586, 49, 510, 970, 327, 894, 250, 2...       1      0.005833  \n",
       "1  [73, 383, 394, 410, 762, 288, 563, 528, 228, 2...       1      0.005833  \n",
       "2  [558, 77, 394, 315, 686, 107, 35, 384, 726, 76...       1      0.007778  \n",
       "3  [888, 552, 450, 68, 714, 329, 518, 978, 513, 4...       1      0.003333  \n",
       "4  [120, 733, 944, 869, 196, 755, 779, 790, 649, ...       1      0.004444  "
      ]
     },
     "execution_count": 28,
     "metadata": {},
     "output_type": "execute_result"
    }
   ],
   "source": [
    "df_keep2.head()"
   ]
  },
  {
   "cell_type": "code",
   "execution_count": 52,
   "metadata": {},
   "outputs": [
    {
     "name": "stderr",
     "output_type": "stream",
     "text": [
      "/var/folders/_b/xsxs0vzs0dg6t2wd_jx_dqx00000gn/T/ipykernel_8078/1263436607.py:1: FutureWarning: Indexing with multiple keys (implicitly converted to a tuple of keys) will be deprecated, use a list instead.\n",
      "  data3 = df_keep2.groupby('question_1')['question_2','question_3'].describe()\n"
     ]
    },
    {
     "data": {
      "text/html": [
       "<div>\n",
       "<style scoped>\n",
       "    .dataframe tbody tr th:only-of-type {\n",
       "        vertical-align: middle;\n",
       "    }\n",
       "\n",
       "    .dataframe tbody tr th {\n",
       "        vertical-align: top;\n",
       "    }\n",
       "\n",
       "    .dataframe thead tr th {\n",
       "        text-align: left;\n",
       "    }\n",
       "\n",
       "    .dataframe thead tr:last-of-type th {\n",
       "        text-align: right;\n",
       "    }\n",
       "</style>\n",
       "<table border=\"1\" class=\"dataframe\">\n",
       "  <thead>\n",
       "    <tr>\n",
       "      <th></th>\n",
       "      <th colspan=\"4\" halign=\"left\">question_2</th>\n",
       "      <th colspan=\"4\" halign=\"left\">question_3</th>\n",
       "    </tr>\n",
       "    <tr>\n",
       "      <th></th>\n",
       "      <th>count</th>\n",
       "      <th>unique</th>\n",
       "      <th>top</th>\n",
       "      <th>freq</th>\n",
       "      <th>count</th>\n",
       "      <th>unique</th>\n",
       "      <th>top</th>\n",
       "      <th>freq</th>\n",
       "    </tr>\n",
       "    <tr>\n",
       "      <th>question_1</th>\n",
       "      <th></th>\n",
       "      <th></th>\n",
       "      <th></th>\n",
       "      <th></th>\n",
       "      <th></th>\n",
       "      <th></th>\n",
       "      <th></th>\n",
       "      <th></th>\n",
       "    </tr>\n",
       "  </thead>\n",
       "  <tbody>\n",
       "    <tr>\n",
       "      <th>A</th>\n",
       "      <td>18</td>\n",
       "      <td>3</td>\n",
       "      <td>Agree</td>\n",
       "      <td>8</td>\n",
       "      <td>18</td>\n",
       "      <td>4</td>\n",
       "      <td>Neither agree nor disagree</td>\n",
       "      <td>6</td>\n",
       "    </tr>\n",
       "    <tr>\n",
       "      <th>B</th>\n",
       "      <td>18</td>\n",
       "      <td>4</td>\n",
       "      <td>Strongly Agree</td>\n",
       "      <td>8</td>\n",
       "      <td>18</td>\n",
       "      <td>4</td>\n",
       "      <td>Neither agree nor disagree</td>\n",
       "      <td>7</td>\n",
       "    </tr>\n",
       "  </tbody>\n",
       "</table>\n",
       "</div>"
      ],
      "text/plain": [
       "           question_2                             question_3         \\\n",
       "                count unique             top freq      count unique   \n",
       "question_1                                                            \n",
       "A                  18      3           Agree    8         18      4   \n",
       "B                  18      4  Strongly Agree    8         18      4   \n",
       "\n",
       "                                             \n",
       "                                   top freq  \n",
       "question_1                                   \n",
       "A           Neither agree nor disagree    6  \n",
       "B           Neither agree nor disagree    7  "
      ]
     },
     "execution_count": 52,
     "metadata": {},
     "output_type": "execute_result"
    }
   ],
   "source": [
    "data3 = df_keep2.groupby('question_1')['question_2','question_3'].describe()\n",
    "data3"
   ]
  },
  {
   "cell_type": "code",
   "execution_count": 38,
   "metadata": {},
   "outputs": [],
   "source": [
    "data2 = df_keep2.groupby('question_1')['new_weighted'].describe()"
   ]
  },
  {
   "cell_type": "code",
   "execution_count": 40,
   "metadata": {},
   "outputs": [],
   "source": [
    "data2.index.name = None"
   ]
  },
  {
   "cell_type": "code",
   "execution_count": 44,
   "metadata": {},
   "outputs": [
    {
     "data": {
      "text/html": [
       "<div>\n",
       "<style scoped>\n",
       "    .dataframe tbody tr th:only-of-type {\n",
       "        vertical-align: middle;\n",
       "    }\n",
       "\n",
       "    .dataframe tbody tr th {\n",
       "        vertical-align: top;\n",
       "    }\n",
       "\n",
       "    .dataframe thead th {\n",
       "        text-align: right;\n",
       "    }\n",
       "</style>\n",
       "<table border=\"1\" class=\"dataframe\">\n",
       "  <thead>\n",
       "    <tr style=\"text-align: right;\">\n",
       "      <th></th>\n",
       "      <th>count</th>\n",
       "      <th>mean</th>\n",
       "      <th>std</th>\n",
       "      <th>min</th>\n",
       "      <th>25%</th>\n",
       "      <th>50%</th>\n",
       "      <th>75%</th>\n",
       "      <th>max</th>\n",
       "    </tr>\n",
       "  </thead>\n",
       "  <tbody>\n",
       "    <tr>\n",
       "      <th>A</th>\n",
       "      <td>18.0</td>\n",
       "      <td>0.005185</td>\n",
       "      <td>0.001617</td>\n",
       "      <td>0.0025</td>\n",
       "      <td>0.004236</td>\n",
       "      <td>0.005000</td>\n",
       "      <td>0.006458</td>\n",
       "      <td>0.008333</td>\n",
       "    </tr>\n",
       "    <tr>\n",
       "      <th>B</th>\n",
       "      <td>18.0</td>\n",
       "      <td>0.005741</td>\n",
       "      <td>0.002477</td>\n",
       "      <td>0.0025</td>\n",
       "      <td>0.003611</td>\n",
       "      <td>0.005278</td>\n",
       "      <td>0.006667</td>\n",
       "      <td>0.010000</td>\n",
       "    </tr>\n",
       "  </tbody>\n",
       "</table>\n",
       "</div>"
      ],
      "text/plain": [
       "   count      mean       std     min       25%       50%       75%       max\n",
       "A   18.0  0.005185  0.001617  0.0025  0.004236  0.005000  0.006458  0.008333\n",
       "B   18.0  0.005741  0.002477  0.0025  0.003611  0.005278  0.006667  0.010000"
      ]
     },
     "execution_count": 44,
     "metadata": {},
     "output_type": "execute_result"
    }
   ],
   "source": [
    "data2"
   ]
  },
  {
   "cell_type": "code",
   "execution_count": 48,
   "metadata": {},
   "outputs": [],
   "source": [
    "l = pd.pivot_table(data2, columns=['A','B'])"
   ]
  },
  {
   "cell_type": "code",
   "execution_count": 51,
   "metadata": {},
   "outputs": [
    {
     "name": "stdout",
     "output_type": "stream",
     "text": [
      "\\begin{tabular}{lrr}\n",
      "\\toprule\n",
      "{} &          A &          B \\\\\n",
      "\\midrule\n",
      "25\\%   &   0.004236 &   0.003611 \\\\\n",
      "50\\%   &   0.005000 &   0.005278 \\\\\n",
      "75\\%   &   0.006458 &   0.006667 \\\\\n",
      "count &  18.000000 &  18.000000 \\\\\n",
      "max   &   0.008333 &   0.010000 \\\\\n",
      "mean  &   0.005185 &   0.005741 \\\\\n",
      "min   &   0.002500 &   0.002500 \\\\\n",
      "std   &   0.001617 &   0.002477 \\\\\n",
      "\\bottomrule\n",
      "\\end{tabular}\n",
      "\n"
     ]
    },
    {
     "name": "stderr",
     "output_type": "stream",
     "text": [
      "/var/folders/_b/xsxs0vzs0dg6t2wd_jx_dqx00000gn/T/ipykernel_8078/1919725570.py:1: FutureWarning: In future versions `DataFrame.to_latex` is expected to utilise the base implementation of `Styler.to_latex` for formatting and rendering. The arguments signature may therefore change. It is recommended instead to use `DataFrame.style.to_latex` which also contains additional functionality.\n",
      "  print(l.to_latex())\n"
     ]
    }
   ],
   "source": [
    "print(l.to_latex())"
   ]
  }
 ],
 "metadata": {
  "kernelspec": {
   "display_name": "Python 3.9.13 ('REC')",
   "language": "python",
   "name": "python3"
  },
  "language_info": {
   "codemirror_mode": {
    "name": "ipython",
    "version": 3
   },
   "file_extension": ".py",
   "mimetype": "text/x-python",
   "name": "python",
   "nbconvert_exporter": "python",
   "pygments_lexer": "ipython3",
   "version": "3.9.13"
  },
  "orig_nbformat": 4,
  "vscode": {
   "interpreter": {
    "hash": "a9d68ffb4d4a094cda9e6175a2e5a1172badaaff3172f5dd32bf6bbc11bca043"
   }
  }
 },
 "nbformat": 4,
 "nbformat_minor": 2
}
